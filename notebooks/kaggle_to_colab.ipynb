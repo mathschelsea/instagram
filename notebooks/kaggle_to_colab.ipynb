{
  "nbformat": 4,
  "nbformat_minor": 0,
  "metadata": {
    "colab": {
      "provenance": [],
      "authorship_tag": "ABX9TyMwC4xnlyhWV08gCrp7WrMi"
    },
    "kernelspec": {
      "name": "python3",
      "display_name": "Python 3"
    },
    "language_info": {
      "name": "python"
    }
  },
  "cells": [
    {
      "cell_type": "markdown",
      "source": [
        "# Download Data from Kaggle in Colab"
      ],
      "metadata": {
        "id": "b3-G7o5pNsRP"
      }
    },
    {
      "cell_type": "markdown",
      "source": [
        "1. Login to Kaggle and go to 'Settings'.\n",
        "2. In your 'Account' section scroll down to 'API'.\n",
        "3. Click on 'Create New Token' - this will download a 'Kaggle.json' file.\n",
        "4. Now head back to Colab."
      ],
      "metadata": {
        "id": "ZHSreX1FZmbf"
      }
    },
    {
      "cell_type": "code",
      "source": [
        "!pip install -q kaggle"
      ],
      "metadata": {
        "id": "_GfAyD8zZNsA"
      },
      "execution_count": 1,
      "outputs": []
    },
    {
      "cell_type": "code",
      "source": [
        "# upload the 'Kaggle.json' file\n",
        "from google.colab import files\n",
        "files.upload()"
      ],
      "metadata": {
        "id": "6HirlNssaIpS"
      },
      "execution_count": null,
      "outputs": []
    },
    {
      "cell_type": "code",
      "source": [
        "# make a kaggle directory and move the json file there\n",
        "!mkdir ~/.kaggle\n",
        "!mv kaggle.json ~/.kaggle"
      ],
      "metadata": {
        "id": "aVuDNn5MaWgz"
      },
      "execution_count": 3,
      "outputs": []
    },
    {
      "cell_type": "code",
      "source": [
        "# change permissions on the API file so it isn't readable by other users\n",
        "!chmod 600 ~/.kaggle/kaggle.json"
      ],
      "metadata": {
        "id": "P9ipK5pXbSPw"
      },
      "execution_count": 4,
      "outputs": []
    },
    {
      "cell_type": "code",
      "source": [
        "# look at a Kaggle datasets list\n",
        "!kaggle datasets list"
      ],
      "metadata": {
        "colab": {
          "base_uri": "https://localhost:8080/"
        },
        "id": "rY3_O_lEkW7a",
        "outputId": "cc13004b-94b2-4639-f2a3-8213cb3a421e"
      },
      "execution_count": 5,
      "outputs": [
        {
          "output_type": "stream",
          "name": "stdout",
          "text": [
            "ref                                                              title                                             size  lastUpdated          downloadCount  voteCount  usabilityRating  \n",
            "---------------------------------------------------------------  -----------------------------------------------  -----  -------------------  -------------  ---------  ---------------  \n",
            "rahulvyasm/netflix-movies-and-tv-shows                           Netflix Movies and TV Shows                        1MB  2024-04-10 09:48:38          17246        378  1.0              \n",
            "sahirmaharajj/school-student-daily-attendance                    School Student Daily Attendance                    2MB  2024-04-29 19:29:56           3756         85  1.0              \n",
            "sahirmaharajj/college-exam-results-sat                           College Exam Results (SAT)                        10KB  2024-05-06 14:37:56           1384         31  1.0              \n",
            "mexwell/heart-disease-dataset                                    🫀 Heart Disease Dataset                          399KB  2024-04-08 09:43:49           8058        128  1.0              \n",
            "supriyoain/water-quality-data                                    Water Quality Data 🌊                              22KB  2024-04-28 15:56:34           1350         28  1.0              \n",
            "dansbecker/melbourne-housing-snapshot                            Melbourne Housing Snapshot                       451KB  2018-06-05 12:52:24         146569       1475  0.7058824        \n",
            "aadarshvelu/aids-virus-infection-prediction                      AIDS Virus Infection Prediction 💉                  2MB  2024-04-28 03:22:18           2363         55  1.0              \n",
            "rabieelkharoua/predict-survival-of-patients-with-heart-failure   Predict survival of patients with heart failure    4KB  2024-04-25 10:21:47           3189         48  1.0              \n",
            "kapturovalexander/time-series-for-online-store                   🏪🏬🪫 Electronic store sales data                    9MB  2024-04-30 09:33:41           1343         32  1.0              \n",
            "jeanetteponder/world-economic-classifications                    World Economic Classifications                     4KB  2024-04-28 01:05:08            850         26  1.0              \n",
            "fahadrehman07/retail-transaction-dataset                         Retail Transaction Dataset                         5MB  2024-05-01 10:05:25           1983         48  1.0              \n",
            "prishasawhney/mushroom-dataset                                   Mushroom Dataset (Binary Classification)         602KB  2024-04-18 19:56:44           3419         91  1.0              \n",
            "muhammadibrahimqasmi/nvidia-corporation-nvda-stock-2020-to-2024  NVIDIA Corporation (NVDA) Stock | 2020 to 2024    32KB  2024-05-05 20:42:16            395         38  1.0              \n",
            "chopper53/data-engineer-salary-in-2024                           Data Engineer Salary in 2024                     108KB  2024-04-24 20:23:25           1470         33  1.0              \n",
            "jaidalmotra/pokemon-dataset                                      Pokemon Dataset                                   19KB  2024-04-30 10:38:36           1752         48  1.0              \n",
            "muhammadibrahimqasmi/airbnb-stock-dataset-2020-24                Airbnb (ABNB) Stock Data 📈                        18KB  2024-05-04 20:29:32            451         40  1.0              \n",
            "juanmerinobermejo/smartphones-price-dataset                      Smartphones Price Dataset                         27KB  2024-04-18 17:24:55           1768         39  1.0              \n",
            "datasnaek/youtube-new                                            Trending YouTube Video Statistics                201MB  2019-06-03 00:56:47         240482       5404  0.7941176        \n",
            "zynicide/wine-reviews                                            Wine Reviews                                      51MB  2017-11-27 17:08:04         297530       3597  0.7941176        \n",
            "iabhishekofficial/mobile-price-classification                    Mobile Price Classification                       71KB  2018-01-28 08:44:24         179065       1992  0.7058824        \n"
          ]
        }
      ]
    },
    {
      "cell_type": "code",
      "source": [
        "# download dataset from Kaggle\n",
        "!kaggle competitions download -c 'bluebook-for-bulldozers'"
      ],
      "metadata": {
        "colab": {
          "base_uri": "https://localhost:8080/"
        },
        "id": "Us--z_e_az3d",
        "outputId": "5bf5f388-e04d-4d68-8e38-3c9aac67fb9a"
      },
      "execution_count": 6,
      "outputs": [
        {
          "output_type": "stream",
          "name": "stdout",
          "text": [
            "Downloading bluebook-for-bulldozers.zip to /content\n",
            " 99% 48.0M/48.4M [00:00<00:00, 174MB/s]\n",
            "100% 48.4M/48.4M [00:00<00:00, 159MB/s]\n"
          ]
        }
      ]
    },
    {
      "cell_type": "code",
      "source": [
        "# make a data directory and move the Kaggle dataset there\n",
        "!mkdir data\n",
        "!mv bluebook-for-bulldozers.zip /content/data"
      ],
      "metadata": {
        "id": "gyNctbAwRRfQ"
      },
      "execution_count": 7,
      "outputs": []
    },
    {
      "cell_type": "code",
      "source": [
        "# unzip data\n",
        "!unzip data/bluebook-for-bulldozers.zip -d data/bbfb"
      ],
      "metadata": {
        "colab": {
          "base_uri": "https://localhost:8080/"
        },
        "id": "i1CaIv8ucELh",
        "outputId": "f1b3912b-8153-4e56-fbeb-2fec09aea19e"
      },
      "execution_count": 8,
      "outputs": [
        {
          "output_type": "stream",
          "name": "stdout",
          "text": [
            "Archive:  data/bluebook-for-bulldozers.zip\n",
            "  inflating: data/bbfb/Data Dictionary.xlsx  \n",
            "  inflating: data/bbfb/Machine_Appendix.csv  \n",
            "  inflating: data/bbfb/Test.csv      \n",
            "  inflating: data/bbfb/Train.7z      \n",
            "  inflating: data/bbfb/Train.zip     \n",
            "  inflating: data/bbfb/TrainAndValid.7z  \n",
            "  inflating: data/bbfb/TrainAndValid.csv  \n",
            "  inflating: data/bbfb/TrainAndValid.zip  \n",
            "  inflating: data/bbfb/Valid.7z      \n",
            "  inflating: data/bbfb/Valid.csv     \n",
            "  inflating: data/bbfb/Valid.zip     \n",
            "  inflating: data/bbfb/ValidSolution.csv  \n",
            "  inflating: data/bbfb/median_benchmark.csv  \n",
            "  inflating: data/bbfb/random_forest_benchmark_test.csv  \n"
          ]
        }
      ]
    }
  ]
}